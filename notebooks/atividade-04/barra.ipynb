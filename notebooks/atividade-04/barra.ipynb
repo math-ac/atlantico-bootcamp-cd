{
 "cells": [
  {
   "cell_type": "markdown",
   "id": "335a93bd-836b-444a-91c4-c10d95b5ccdb",
   "metadata": {},
   "source": [
    "# Criação de um Gráfico de Barras"
   ]
  },
  {
   "cell_type": "markdown",
   "id": "dce45b42-42ae-4e27-bd24-e80d6e9bf359",
   "metadata": {},
   "source": [
    "## Bibliotecas necessárias"
   ]
  },
  {
   "cell_type": "code",
   "execution_count": null,
   "id": "50c0c90d-ac64-43fa-8c55-8859acd553d3",
   "metadata": {},
   "outputs": [],
   "source": [
    "from matplotlib import pyplot as plt\n",
    "import seaborn as sns\n",
    "import pandas as pd"
   ]
  },
  {
   "cell_type": "markdown",
   "id": "948181a1-c916-4277-80cf-e06f73e8e157",
   "metadata": {},
   "source": [
    "## Obtenção dos dados"
   ]
  },
  {
   "cell_type": "code",
   "execution_count": null,
   "id": "8764f442-dcb5-4cdf-b02f-84a3202a2783",
   "metadata": {},
   "outputs": [],
   "source": [
    "df = pd.read_csv('https://gist.githubusercontent.com/omadson/770934cb0df9e2d2c3e8db031f1139a5/raw/4d181efc035b327d9d66256915951384517c603e/arrecadacao.csv')\n",
    "df.head()"
   ]
  },
  {
   "cell_type": "markdown",
   "id": "27a17c29-43ad-4a28-b375-9f030a3814c5",
   "metadata": {},
   "source": [
    "## Ajuste dos Dados"
   ]
  },
  {
   "cell_type": "code",
   "execution_count": null,
   "id": "cf26b9ea-bf7c-4c91-9c7e-d8ceda223c9d",
   "metadata": {},
   "outputs": [],
   "source": [
    "# Simplificação dos valores\n",
    "df = df.assign(arrecadacao_milhao = df.arrecadacao / 1000000)\n",
    "\n",
    "# Ordenação dos conjuntos (de acordo com arrecadação)\n",
    "df = df.sort_values(by='arrecadacao', ascending=False)\n",
    "\n",
    "# Design com linhas verticais\n",
    "sns.set_style(\"whitegrid\")\n",
    "\n",
    "# Modificação das cores \n",
    "plt.figure(figsize=(5, 2))\n",
    "ax = sns.barplot(data=df, x='arrecadacao_milhao', y='titulo', color='tomato')\n",
    "\n",
    "# Identificadores para as barras (com seus valores)\n",
    "ax.bar_label(\n",
    "    ax.containers[0],\n",
    "    fmt='%.1f',\n",
    "    label_type='center',\n",
    "    color='white'\n",
    ")\n",
    "\n",
    "# Modificação no desgin dos títulos\n",
    "plt.xlabel('Arrecadação (Milhões de dólares)')\n",
    "plt.ylabel('Filme')\n",
    "plt.title('Arrecadação de filmes')\n",
    "\n",
    "# Linha \"inicial\" para a origem das barras\n",
    "ax.set(frame_on=False)\n",
    "ax.axvline(0, color=\"k\", clip_on=False)\n",
    "\n",
    "# Exibição do gráfico\n",
    "plt.show()\n"
   ]
  },
  {
   "cell_type": "code",
   "execution_count": null,
   "id": "74a0d543-bbca-45d7-9686-98b861409f45",
   "metadata": {},
   "outputs": [],
   "source": [
    "# É possível obter um gráfico de maneira simples, porém, não ideal\n",
    "# ax = sns.barplot(data=df, y='arrecadacao', x='titulo')"
   ]
  }
 ],
 "metadata": {
  "kernelspec": {
   "display_name": "Python 3 (ipykernel)",
   "language": "python",
   "name": "python3"
  },
  "language_info": {
   "codemirror_mode": {
    "name": "ipython",
    "version": 3
   },
   "file_extension": ".py",
   "mimetype": "text/x-python",
   "name": "python",
   "nbconvert_exporter": "python",
   "pygments_lexer": "ipython3",
   "version": "3.8.10"
  }
 },
 "nbformat": 4,
 "nbformat_minor": 5
}
